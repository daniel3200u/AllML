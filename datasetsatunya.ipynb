{
 "cells": [
  {
   "cell_type": "code",
   "execution_count": null,
   "metadata": {},
   "outputs": [],
   "source": [
    "import pandas as pd\n",
    "import numpy as np\n",
    "import matplotlib.pyplot as plt\n",
    "import sklearn"
   ]
  },
  {
   "cell_type": "code",
   "execution_count": 6,
   "metadata": {},
   "outputs": [
    {
     "data": {
      "text/plain": [
       "<bound method NDFrame.head of       trans_date_trans_time                          merchant        category  \\\n",
       "0       2019-04-01 00:58:00  \"Stokes, Christiansen and Sipes\"     grocery_net   \n",
       "1       2019-04-01 15:06:00                      Predovic Inc    shopping_net   \n",
       "2       2019-04-01 22:37:00                   Wisozk and Sons        misc_pos   \n",
       "3       2019-04-01 23:06:00                    Murray-Smitham     grocery_pos   \n",
       "4       2019-04-01 23:59:00                        Friesen Lt  health_fitness   \n",
       "...                     ...                               ...             ...   \n",
       "14441      22-01-2019 00:37                      Hudson-Grady    shopping_pos   \n",
       "14442      22-01-2019 00:41    \"Nienow, Ankunding and Collie\"        misc_pos   \n",
       "14443      22-01-2019 00:42                  Pacocha-O'Reilly     grocery_pos   \n",
       "14444      22-01-2019 00:48     \"Bins, Balistreri and Beatty\"    shopping_pos   \n",
       "14445      22-01-2019 00:55                Daugherty-Thompson     food_dining   \n",
       "\n",
       "          amt        city state      lat      long  city_pop  \\\n",
       "0       14.37       Wales    AK  64.7556 -165.6723       145   \n",
       "1      966.11       Wales    AK  64.7556 -165.6723       145   \n",
       "2       49.61       Wales    AK  64.7556 -165.6723       145   \n",
       "3      295.26       Wales    AK  64.7556 -165.6723       145   \n",
       "4       18.17       Wales    AK  64.7556 -165.6723       145   \n",
       "...       ...         ...   ...      ...       ...       ...   \n",
       "14441  122.00      Athena    OR  45.8289 -118.4971      1302   \n",
       "14442    9.07    Gardiner    OR  43.7857 -124.1437       260   \n",
       "14443  104.84        Alva    WY  44.6873 -104.4414       110   \n",
       "14444  268.16       Wales    AK  64.7556 -165.6723       145   \n",
       "14445   50.09  Unionville    MO  40.4815  -92.9951      3805   \n",
       "\n",
       "                                     job                  dob  \\\n",
       "0             \"Administrator, education\"  1939-09-11 00:00:00   \n",
       "1             \"Administrator, education\"  1939-09-11 00:00:00   \n",
       "2             \"Administrator, education\"  1939-09-11 00:00:00   \n",
       "3             \"Administrator, education\"  1939-09-11 00:00:00   \n",
       "4             \"Administrator, education\"  1939-09-11 00:00:00   \n",
       "...                                  ...                  ...   \n",
       "14441                             Dealer           18-10-1976   \n",
       "14442            \"Engineer, maintenance\"  1956-01-09 00:00:00   \n",
       "14443  \"Administrator, local government\"           16-05-1973   \n",
       "14444         \"Administrator, education\"  1939-09-11 00:00:00   \n",
       "14445     \"Investment banker, corporate\"           15-09-1950   \n",
       "\n",
       "                              trans_num  merch_lat  merch_long is_fraud  \n",
       "0      a3806e984cec6ac0096d8184c64ad3a1  65.654142 -164.722603        1  \n",
       "1      a59185fe1b9ccf21323f581d7477573f  65.468863 -165.473127        1  \n",
       "2      86ba3a888b42cd3925881fa34177b4e0  65.347667 -165.914542        1  \n",
       "3      3a068fe1d856f0ecedbed33e4b5f4496  64.445035 -166.080207        1  \n",
       "4      891cdd1191028759dc20dc224347a0ff  65.447094 -165.446843        1  \n",
       "...                                 ...        ...         ...      ...  \n",
       "14441  699a4c06b22711bf3e0d8ef91232d356  46.442439 -118.524214        0  \n",
       "14442  080d620d24815c7d6c637cf0b71dde8e  42.901265 -124.995317        0  \n",
       "14443  3c346c8cd627c5fe3ed57430db2e9ae7  45.538062 -104.542117        0  \n",
       "14444  e66ffcc95ba7fc490486242af1205d04  64.081462 -165.898698        0  \n",
       "14445  65e7370f473f9b9d75796c8033a7c929  40.387243  -92.224871        0  \n",
       "\n",
       "[14446 rows x 15 columns]>"
      ]
     },
     "execution_count": 6,
     "metadata": {},
     "output_type": "execute_result"
    }
   ],
   "source": [
    "datf=pd.read_excel('fraud.xlsx')\n",
    "datf.head\n"
   ]
  },
  {
   "cell_type": "code",
   "execution_count": 7,
   "metadata": {},
   "outputs": [
    {
     "data": {
      "text/plain": [
       "trans_date_trans_time     object\n",
       "merchant                  object\n",
       "category                  object\n",
       "amt                      float64\n",
       "city                      object\n",
       "state                     object\n",
       "lat                      float64\n",
       "long                     float64\n",
       "city_pop                   int64\n",
       "job                       object\n",
       "dob                       object\n",
       "trans_num                 object\n",
       "merch_lat                float64\n",
       "merch_long               float64\n",
       "is_fraud                  object\n",
       "dtype: object"
      ]
     },
     "execution_count": 7,
     "metadata": {},
     "output_type": "execute_result"
    }
   ],
   "source": [
    "datf.dtypes"
   ]
  },
  {
   "cell_type": "code",
   "execution_count": 8,
   "metadata": {},
   "outputs": [
    {
     "data": {
      "text/html": [
       "<div>\n",
       "<style scoped>\n",
       "    .dataframe tbody tr th:only-of-type {\n",
       "        vertical-align: middle;\n",
       "    }\n",
       "\n",
       "    .dataframe tbody tr th {\n",
       "        vertical-align: top;\n",
       "    }\n",
       "\n",
       "    .dataframe thead th {\n",
       "        text-align: right;\n",
       "    }\n",
       "</style>\n",
       "<table border=\"1\" class=\"dataframe\">\n",
       "  <thead>\n",
       "    <tr style=\"text-align: right;\">\n",
       "      <th></th>\n",
       "      <th>amt</th>\n",
       "      <th>lat</th>\n",
       "      <th>long</th>\n",
       "      <th>city_pop</th>\n",
       "      <th>merch_lat</th>\n",
       "      <th>merch_long</th>\n",
       "    </tr>\n",
       "  </thead>\n",
       "  <tbody>\n",
       "    <tr>\n",
       "      <th>count</th>\n",
       "      <td>14446.000000</td>\n",
       "      <td>14446.000000</td>\n",
       "      <td>14446.000000</td>\n",
       "      <td>1.444600e+04</td>\n",
       "      <td>14446.000000</td>\n",
       "      <td>14446.000000</td>\n",
       "    </tr>\n",
       "    <tr>\n",
       "      <th>mean</th>\n",
       "      <td>124.430073</td>\n",
       "      <td>39.787692</td>\n",
       "      <td>-110.874225</td>\n",
       "      <td>1.065370e+05</td>\n",
       "      <td>39.787991</td>\n",
       "      <td>-110.874892</td>\n",
       "    </tr>\n",
       "    <tr>\n",
       "      <th>std</th>\n",
       "      <td>231.352587</td>\n",
       "      <td>5.317039</td>\n",
       "      <td>12.985813</td>\n",
       "      <td>2.902916e+05</td>\n",
       "      <td>5.360593</td>\n",
       "      <td>12.995596</td>\n",
       "    </tr>\n",
       "    <tr>\n",
       "      <th>min</th>\n",
       "      <td>1.000000</td>\n",
       "      <td>20.027100</td>\n",
       "      <td>-165.672300</td>\n",
       "      <td>4.600000e+01</td>\n",
       "      <td>19.032689</td>\n",
       "      <td>-166.670685</td>\n",
       "    </tr>\n",
       "    <tr>\n",
       "      <th>25%</th>\n",
       "      <td>12.080000</td>\n",
       "      <td>36.715400</td>\n",
       "      <td>-120.415800</td>\n",
       "      <td>4.930000e+02</td>\n",
       "      <td>36.794655</td>\n",
       "      <td>-120.146253</td>\n",
       "    </tr>\n",
       "    <tr>\n",
       "      <th>50%</th>\n",
       "      <td>51.520000</td>\n",
       "      <td>39.666200</td>\n",
       "      <td>-111.098500</td>\n",
       "      <td>1.645000e+03</td>\n",
       "      <td>39.620953</td>\n",
       "      <td>-111.192629</td>\n",
       "    </tr>\n",
       "    <tr>\n",
       "      <th>75%</th>\n",
       "      <td>101.030000</td>\n",
       "      <td>41.940400</td>\n",
       "      <td>-101.136000</td>\n",
       "      <td>3.543900e+04</td>\n",
       "      <td>42.275740</td>\n",
       "      <td>-100.446822</td>\n",
       "    </tr>\n",
       "    <tr>\n",
       "      <th>max</th>\n",
       "      <td>3261.470000</td>\n",
       "      <td>66.693300</td>\n",
       "      <td>-89.628700</td>\n",
       "      <td>2.383912e+06</td>\n",
       "      <td>67.510267</td>\n",
       "      <td>-88.646366</td>\n",
       "    </tr>\n",
       "  </tbody>\n",
       "</table>\n",
       "</div>"
      ],
      "text/plain": [
       "                amt           lat          long      city_pop     merch_lat  \\\n",
       "count  14446.000000  14446.000000  14446.000000  1.444600e+04  14446.000000   \n",
       "mean     124.430073     39.787692   -110.874225  1.065370e+05     39.787991   \n",
       "std      231.352587      5.317039     12.985813  2.902916e+05      5.360593   \n",
       "min        1.000000     20.027100   -165.672300  4.600000e+01     19.032689   \n",
       "25%       12.080000     36.715400   -120.415800  4.930000e+02     36.794655   \n",
       "50%       51.520000     39.666200   -111.098500  1.645000e+03     39.620953   \n",
       "75%      101.030000     41.940400   -101.136000  3.543900e+04     42.275740   \n",
       "max     3261.470000     66.693300    -89.628700  2.383912e+06     67.510267   \n",
       "\n",
       "         merch_long  \n",
       "count  14446.000000  \n",
       "mean    -110.874892  \n",
       "std       12.995596  \n",
       "min     -166.670685  \n",
       "25%     -120.146253  \n",
       "50%     -111.192629  \n",
       "75%     -100.446822  \n",
       "max      -88.646366  "
      ]
     },
     "execution_count": 8,
     "metadata": {},
     "output_type": "execute_result"
    }
   ],
   "source": [
    "datf.describe()"
   ]
  },
  {
   "cell_type": "code",
   "execution_count": 9,
   "metadata": {},
   "outputs": [
    {
     "data": {
      "text/plain": [
       "trans_date_trans_time    0\n",
       "merchant                 0\n",
       "category                 0\n",
       "amt                      0\n",
       "city                     0\n",
       "state                    0\n",
       "lat                      0\n",
       "long                     0\n",
       "city_pop                 0\n",
       "job                      0\n",
       "dob                      0\n",
       "trans_num                0\n",
       "merch_lat                0\n",
       "merch_long               0\n",
       "is_fraud                 0\n",
       "dtype: int64"
      ]
     },
     "execution_count": 9,
     "metadata": {},
     "output_type": "execute_result"
    }
   ],
   "source": [
    "datf.isnull().sum()"
   ]
  },
  {
   "cell_type": "code",
   "execution_count": null,
   "metadata": {},
   "outputs": [],
   "source": [
    "import sklearn \n",
    "from sklearn.ensemble import r\n",
    "model"
   ]
  }
 ],
 "metadata": {
  "kernelspec": {
   "display_name": "Python 3",
   "language": "python",
   "name": "python3"
  },
  "language_info": {
   "codemirror_mode": {
    "name": "ipython",
    "version": 3
   },
   "file_extension": ".py",
   "mimetype": "text/x-python",
   "name": "python",
   "nbconvert_exporter": "python",
   "pygments_lexer": "ipython3",
   "version": "3.12.6"
  }
 },
 "nbformat": 4,
 "nbformat_minor": 2
}
