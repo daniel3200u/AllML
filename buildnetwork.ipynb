{
 "cells": [
  {
   "cell_type": "code",
   "execution_count": 1,
   "metadata": {},
   "outputs": [],
   "source": [
    "import pandas as pd\n",
    "import numpy as np"
   ]
  },
  {
   "cell_type": "code",
   "execution_count": null,
   "metadata": {},
   "outputs": [],
   "source": [
    "class neural:\n",
    "    def __init__(self, input_dim, hidden_dim, output_dim):\n",
    "        self.weights1 = np.random.rand(input_dim, hidden_dim)\n",
    "        self.weights2 = np.random.rand(hidden_dim, output_dim)\n",
    "        self.bias1 = np.zeros((1, hidden_dim))\n",
    "        self.bias2 = np.zeros((1, output_dim))\n",
    "        self.learning_rate = 0.01\n",
    "        self.activation = 'relu'\n",
    "        self.output_activation = 'sigmoid'\n",
    "        self.cost = 'binary_crossentropy'\n",
    "        self.optimizer = 'adam'\n",
    "        self.loss = 0.0\n",
    "        self.accuracy = 0.0\n",
    "    def mactivation(self,output_dim):\n",
    "        if self.activation == 'relu':\n",
    "            return np.maximum(output_dim,0)"
   ]
  },
  {
   "cell_type": "code",
   "execution_count": null,
   "metadata": {},
   "outputs": [],
   "source": [
    "def backpropagation():\n",
    "    # Initialize the weights and biases\n",
    "    weights = [0.5, 0.2, 0.1]\n",
    "    biases = [0.1, 0.2, 0.3]\n",
    "    # Define the activation functions\n",
    "    def sigmoid(x):\n",
    "        return 1 / (1 + math.exp(-x))\n",
    "    def relu(x):\n",
    "        return max(0, x)\n",
    "    "
   ]
  }
 ],
 "metadata": {
  "kernelspec": {
   "display_name": "Python 3",
   "language": "python",
   "name": "python3"
  },
  "language_info": {
   "codemirror_mode": {
    "name": "ipython",
    "version": 3
   },
   "file_extension": ".py",
   "mimetype": "text/x-python",
   "name": "python",
   "nbconvert_exporter": "python",
   "pygments_lexer": "ipython3",
   "version": "3.12.6"
  }
 },
 "nbformat": 4,
 "nbformat_minor": 2
}
